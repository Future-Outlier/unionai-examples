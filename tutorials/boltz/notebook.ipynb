{
 "cells": [
  {
   "cell_type": "code",
   "execution_count": null,
   "metadata": {},
   "outputs": [],
   "source": [
    "# !pip install git+https://github.com/unionai/unionai.git@enghabu/hub-image-spec"
   ]
  },
  {
   "cell_type": "code",
   "execution_count": 1,
   "metadata": {},
   "outputs": [
    {
     "data": {
      "text/html": [
       "<pre style=\"white-space:pre;overflow-x:auto;line-height:normal;font-family:Menlo,'DejaVu Sans Mono',consolas,'Courier New',monospace\"><span style=\"color: #7fbfbf; text-decoration-color: #7fbfbf\">18:05:46.013796 </span><span style=\"color: #808000; text-decoration-color: #808000\">WARNING </span> remote.py:<span style=\"color: #008080; text-decoration-color: #008080; font-weight: bold\">293</span> - Jupyter notebook and interactive task  \n",
       "<span style=\"color: #7fbfbf; text-decoration-color: #7fbfbf\">                </span>         support is still alpha.                                \n",
       "</pre>\n"
      ],
      "text/plain": [
       "\u001b[2;36m18:05:46.013796\u001b[0m\u001b[2;36m \u001b[0m\u001b[33mWARNING \u001b[0m remote.py:\u001b[1;36m293\u001b[0m - Jupyter notebook and interactive task  \n",
       "\u001b[2;36m                \u001b[0m         support is still alpha.                                \n"
      ]
     },
     "metadata": {},
     "output_type": "display_data"
    }
   ],
   "source": [
    "# Imports and init remote\n",
    "import os\n",
    "import subprocess\n",
    "from union import task, workflow, FlyteFile, UnionRemote, ImageSpec, Resources, FlyteDirectory\n",
    "from union.remote import HuggingFaceModelInfo\n",
    "from flytekit.configuration import Config\n",
    "\n",
    "os.environ[\"UNION_CONFIG\"] = \"/Users/pryceturner/.union/config_serving.yaml\"\n",
    "\n",
    "remote = UnionRemote(config=Config.auto(config_file=\"/Users/pryceturner/.union/config_serving.yaml\"))"
   ]
  },
  {
   "cell_type": "code",
   "execution_count": null,
   "metadata": {},
   "outputs": [],
   "source": [
    "# Emit HF repo as Artifact\n",
    "info = HuggingFaceModelInfo(repo=\"boltz-community/boltz-1\")\n",
    "\n",
    "cache_exec = remote._create_model_from_hf(\n",
    "    info=info, \n",
    "    hf_token_key=\"HF_TOKEN\", \n",
    "    union_api_key=\"UNION_API_KEY\",\n",
    ")\n",
    "\n",
    "cache_exec = cache_exec.wait(poll_interval=2)\n",
    "cache_exec.outputs"
   ]
  },
  {
   "cell_type": "code",
   "execution_count": 2,
   "metadata": {},
   "outputs": [],
   "source": [
    "# Define Image\n",
    "image = ImageSpec(\n",
    "    name=\"boltz\",\n",
    "    builder=\"union\",\n",
    "    packages=[\n",
    "        \"union\",\n",
    "        \"flytekit==1.13.14\",\n",
    "        \"union-runtime==0.1.11\",\n",
    "        \"fastapi==0.115.11\", \n",
    "        \"pydantic==2.10.6\", \n",
    "        \"boltz==0.4.1\", \n",
    "        \"uvicorn==0.34.0\", \n",
    "        \"python-multipart==0.0.20\"\n",
    "        ],\n",
    "    apt_packages=[\"build-essential\"]\n",
    ")"
   ]
  },
  {
   "cell_type": "code",
   "execution_count": null,
   "metadata": {},
   "outputs": [],
   "source": [
    "@task(container_image=image, requests=Resources(cpu=\"2\", mem=\"10Gi\", ephemeral_storage=\"50Gi\", gpu=\"1\"))\n",
    "def simple_predict(input: FlyteFile) -> FlyteDirectory:\n",
    "    input.download()\n",
    "    out = \"/tmp/boltz_out\"\n",
    "    os.makedirs(out, exist_ok=True)\n",
    "    subprocess.run([\"boltz\", \"predict\", input.path, \"--out_dir\", out, \"--use_msa_server\"])\n",
    "    return FlyteDirectory(path=out)\n",
    "\n",
    "@workflow\n",
    "def wf(input: FlyteFile) -> FlyteDirectory:\n",
    "    return simple_predict(input=input)\n",
    "\n",
    "execution = remote.execute(\n",
    "    entity=wf,\n",
    "    inputs={\"input\": \"prot.yaml\"},\n",
    "    wait=True\n",
    "    )\n",
    "output = execution.outputs\n",
    "print(output)"
   ]
  }
 ],
 "metadata": {
  "kernelspec": {
   "display_name": ".venv",
   "language": "python",
   "name": "python3"
  },
  "language_info": {
   "codemirror_mode": {
    "name": "ipython",
    "version": 3
   },
   "file_extension": ".py",
   "mimetype": "text/x-python",
   "name": "python",
   "nbconvert_exporter": "python",
   "pygments_lexer": "ipython3",
   "version": "3.12.8"
  }
 },
 "nbformat": 4,
 "nbformat_minor": 2
}
