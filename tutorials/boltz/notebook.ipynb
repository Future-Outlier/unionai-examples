{
 "cells": [
  {
   "cell_type": "code",
   "execution_count": null,
   "metadata": {},
   "outputs": [],
   "source": [
    "# !pip install git+https://github.com/unionai/unionai.git@enghabu/hub-image-spec"
   ]
  },
  {
   "cell_type": "code",
   "execution_count": null,
   "metadata": {},
   "outputs": [],
   "source": [
    "# Imports and init remote\n",
    "import os\n",
    "import subprocess\n",
    "from union import task, workflow, FlyteFile, UnionRemote, ImageSpec, Resources, FlyteDirectory, ActorEnvironment, LaunchPlan\n",
    "from union.remote import HuggingFaceModelInfo\n",
    "from flytekit.configuration import Config\n",
    "\n",
    "os.environ[\"UNION_CONFIG\"] = \"/Users/pryceturner/.union/config_serving.yaml\"\n",
    "\n",
    "remote = UnionRemote(config=Config.auto(config_file=\"/Users/pryceturner/.union/config_serving.yaml\"))"
   ]
  },
  {
   "cell_type": "code",
   "execution_count": null,
   "metadata": {},
   "outputs": [],
   "source": [
    "# Emit HF repo as Artifact\n",
    "info = HuggingFaceModelInfo(repo=\"boltz-community/boltz-1\")\n",
    "\n",
    "cache_exec = remote._create_model_from_hf(\n",
    "    info=info, \n",
    "    hf_token_key=\"HF_TOKEN\", \n",
    "    union_api_key=\"UNION_API_KEY\",\n",
    ")\n",
    "\n",
    "cache_exec = cache_exec.wait(poll_interval=2)\n",
    "cache_exec.outputs"
   ]
  },
  {
   "cell_type": "code",
   "execution_count": null,
   "metadata": {},
   "outputs": [],
   "source": [
    "# Define Image\n",
    "image = ImageSpec(\n",
    "    name=\"boltz\",\n",
    "    packages=[\n",
    "        \"union\",\n",
    "        \"flytekit==1.13.14\",\n",
    "        \"union-runtime==0.1.11\",\n",
    "        \"fastapi==0.115.11\",\n",
    "        \"pydantic==2.10.6\",\n",
    "        \"boltz==0.4.1\",\n",
    "        \"uvicorn==0.34.0\",\n",
    "        \"python-multipart==0.0.20\",\n",
    "    ],\n",
    "    apt_packages=[\"build-essential\"],\n",
    "    registry=\"docker.io/unionbio\",\n",
    ")"
   ]
  },
  {
   "cell_type": "code",
   "execution_count": null,
   "metadata": {},
   "outputs": [],
   "source": [
    "@task(container_image=image, requests=Resources(cpu=\"2\", mem=\"10Gi\", ephemeral_storage=\"50Gi\", gpu=\"1\"))\n",
    "def simple_predict(input: FlyteFile) -> FlyteDirectory:\n",
    "    input.download()\n",
    "    out = \"/tmp/boltz_out\"\n",
    "    os.makedirs(out, exist_ok=True)\n",
    "    subprocess.run([\"boltz\", \"predict\", input.path, \"--out_dir\", out, \"--use_msa_server\"])\n",
    "    return FlyteDirectory(path=out)\n",
    "\n",
    "@workflow\n",
    "def wf(input: FlyteFile) -> FlyteDirectory:\n",
    "    return simple_predict(input=input)\n",
    "\n",
    "execution = remote.execute(\n",
    "    entity=wf,\n",
    "    inputs={\"input\": \"inputs/prot_no_msa.yaml\"},\n",
    "    wait=True\n",
    "    )\n",
    "output = execution.outputs\n",
    "print(output)\n",
    "\n"
   ]
  },
  {
   "cell_type": "code",
   "execution_count": null,
   "metadata": {},
   "outputs": [],
   "source": [
    "actor = ActorEnvironment(\n",
    "    name=\"boltz-actor\",\n",
    "    replica_count=1,\n",
    "    ttl_seconds=600,\n",
    "    requests=Resources(\n",
    "        cpu=\"2\",\n",
    "        mem=\"10Gi\",\n",
    "        gpu=\"1\",\n",
    "    ),\n",
    "    container_image=image,\n",
    ")"
   ]
  },
  {
   "cell_type": "code",
   "execution_count": null,
   "metadata": {},
   "outputs": [],
   "source": []
  },
  {
   "cell_type": "code",
   "execution_count": null,
   "metadata": {},
   "outputs": [],
   "source": [
    "\n",
    "@actor.task\n",
    "def act_simple_predict(input: FlyteFile) -> FlyteDirectory:\n",
    "    input.download()\n",
    "    out = \"/tmp/boltz_out\"\n",
    "    os.makedirs(out, exist_ok=True)\n",
    "    subprocess.run([\"boltz\", \"predict\", input.path, \"--out_dir\", out, \"--use_msa_server\"])\n",
    "    return FlyteDirectory(path=out)\n",
    "\n",
    "\n",
    "@workflow\n",
    "def act_wf(input: FlyteFile) -> FlyteDirectory:\n",
    "    return simple_predict(input=input)\n",
    "\n",
    "# remote.fast_register_workflow(entity=wf)\n",
    "execution = remote.execute(\n",
    "    entity=act_wf, \n",
    "    inputs={\"input\": \"inputs/prot_no_msa.yaml\"}, \n",
    "    wait=True\n",
    ")\n",
    "output = execution.outputs\n",
    "print(output)"
   ]
  }
 ],
 "metadata": {
  "kernelspec": {
   "display_name": ".venv",
   "language": "python",
   "name": "python3"
  },
  "language_info": {
   "codemirror_mode": {
    "name": "ipython",
    "version": 3
   },
   "file_extension": ".py",
   "mimetype": "text/x-python",
   "name": "python",
   "nbconvert_exporter": "python",
   "pygments_lexer": "ipython3",
   "version": "3.12.8"
  }
 },
 "nbformat": 4,
 "nbformat_minor": 2
}
