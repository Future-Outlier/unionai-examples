{
 "cells": [
  {
   "cell_type": "code",
   "execution_count": null,
   "metadata": {},
   "outputs": [],
   "source": [
    "# !pip install git+https://github.com/unionai/unionai.git@enghabu/hub-image-spec\n",
    "!pip install fastapi streamlit"
   ]
  },
  {
   "cell_type": "code",
   "execution_count": 18,
   "metadata": {},
   "outputs": [
    {
     "data": {
      "text/html": [
       "<pre style=\"white-space:pre;overflow-x:auto;line-height:normal;font-family:Menlo,'DejaVu Sans Mono',consolas,'Courier New',monospace\"><span style=\"color: #7fbfbf; text-decoration-color: #7fbfbf\">13:49:26.695699 </span><span style=\"color: #808000; text-decoration-color: #808000\">WARNING </span> remote.py:<span style=\"color: #008080; text-decoration-color: #008080; font-weight: bold\">293</span> - Jupyter notebook and interactive task  \n",
       "<span style=\"color: #7fbfbf; text-decoration-color: #7fbfbf\">                </span>         support is still alpha.                                \n",
       "</pre>\n"
      ],
      "text/plain": [
       "\u001b[2;36m13:49:26.695699\u001b[0m\u001b[2;36m \u001b[0m\u001b[33mWARNING \u001b[0m remote.py:\u001b[1;36m293\u001b[0m - Jupyter notebook and interactive task  \n",
       "\u001b[2;36m                \u001b[0m         support is still alpha.                                \n"
      ]
     },
     "metadata": {},
     "output_type": "display_data"
    }
   ],
   "source": [
    "# Imports and init remote\n",
    "import os\n",
    "import subprocess\n",
    "from union import task, workflow, FlyteFile, UnionRemote, ImageSpec, Resources, FlyteDirectory, ActorEnvironment, LaunchPlan\n",
    "from union.remote import HuggingFaceModelInfo\n",
    "from flytekit.configuration import Config\n",
    "\n",
    "os.environ[\"UNION_CONFIG\"] = \"/Users/pryceturner/.union/config_serving.yaml\"\n",
    "\n",
    "remote = UnionRemote(config=Config.auto(config_file=\"/Users/pryceturner/.union/config_serving.yaml\"))"
   ]
  },
  {
   "cell_type": "code",
   "execution_count": null,
   "metadata": {},
   "outputs": [],
   "source": [
    "# Emit HF repo as Artifact\n",
    "info = HuggingFaceModelInfo(repo=\"boltz-community/boltz-1\")\n",
    "\n",
    "cache_exec = remote._create_model_from_hf(\n",
    "    info=info, \n",
    "    hf_token_key=\"HF_TOKEN\", \n",
    "    union_api_key=\"UNION_API_KEY\",\n",
    ")\n",
    "\n",
    "cache_exec = cache_exec.wait(poll_interval=2)\n",
    "cache_exec.outputs"
   ]
  },
  {
   "cell_type": "code",
   "execution_count": 19,
   "metadata": {},
   "outputs": [],
   "source": [
    "# Define Image\n",
    "image = ImageSpec(\n",
    "    name=\"boltz\",\n",
    "    packages=[\n",
    "        \"union\",\n",
    "        \"flytekit==1.13.14\",\n",
    "        \"union-runtime==0.1.11\",\n",
    "        \"fastapi==0.115.11\",\n",
    "        \"pydantic==2.10.6\",\n",
    "        \"boltz==0.4.1\",\n",
    "        \"uvicorn==0.34.0\",\n",
    "        \"python-multipart==0.0.20\",\n",
    "    ],\n",
    "    apt_packages=[\"build-essential\"],\n",
    "    registry=\"docker.io/unionbio\",\n",
    ")"
   ]
  },
  {
   "cell_type": "code",
   "execution_count": null,
   "metadata": {},
   "outputs": [],
   "source": [
    "@task(container_image=image, requests=Resources(cpu=\"2\", mem=\"10Gi\", ephemeral_storage=\"50Gi\", gpu=\"1\"))\n",
    "def simple_predict(input: FlyteFile) -> FlyteDirectory:\n",
    "    input.download()\n",
    "    out = \"/tmp/boltz_out\"\n",
    "    os.makedirs(out, exist_ok=True)\n",
    "    subprocess.run([\"boltz\", \"predict\", input.path, \"--out_dir\", out, \"--use_msa_server\"])\n",
    "    return FlyteDirectory(path=out)\n",
    "\n",
    "@workflow\n",
    "def wf(input: FlyteFile) -> FlyteDirectory:\n",
    "    return simple_predict(input=input)\n",
    "\n",
    "execution = remote.execute(\n",
    "    entity=wf,\n",
    "    inputs={\"input\": \"inputs/prot_no_msa.yaml\"},\n",
    "    wait=True\n",
    "    )\n",
    "output = execution.outputs\n",
    "print(output)\n",
    "\n"
   ]
  },
  {
   "cell_type": "code",
   "execution_count": null,
   "metadata": {},
   "outputs": [],
   "source": [
    "actor = ActorEnvironment(\n",
    "    name=\"boltz-actor\",\n",
    "    replica_count=1,\n",
    "    ttl_seconds=600,\n",
    "    requests=Resources(\n",
    "        cpu=\"2\",\n",
    "        mem=\"10Gi\",\n",
    "        gpu=\"1\",\n",
    "    ),\n",
    "    container_image=image,\n",
    ")"
   ]
  },
  {
   "cell_type": "code",
   "execution_count": null,
   "metadata": {},
   "outputs": [],
   "source": [
    "\n",
    "@actor.task\n",
    "def act_simple_predict(input: FlyteFile) -> FlyteDirectory:\n",
    "    input.download()\n",
    "    out = \"/tmp/boltz_out\"\n",
    "    os.makedirs(out, exist_ok=True)\n",
    "    subprocess.run([\"boltz\", \"predict\", input.path, \"--out_dir\", out, \"--use_msa_server\"])\n",
    "    return FlyteDirectory(path=out)\n",
    "\n",
    "@workflow\n",
    "def act_wf(input: FlyteFile) -> FlyteDirectory:\n",
    "    return simple_predict(input=input)\n",
    "\n",
    "execution = remote.execute(\n",
    "    entity=act_wf, \n",
    "    inputs={\"input\": \"inputs/prot_no_msa.yaml\"}, \n",
    "    wait=True\n",
    ")\n",
    "output = execution.outputs\n",
    "print(output)"
   ]
  },
  {
   "cell_type": "code",
   "execution_count": 20,
   "metadata": {},
   "outputs": [
    {
     "name": "stdout",
     "output_type": "stream",
     "text": [
      "Overwriting boltz_fastapi.py\n"
     ]
    }
   ],
   "source": [
    "%%writefile boltz_fastapi.py\n",
    "from fastapi import FastAPI, File, UploadFile, Form, BackgroundTasks\n",
    "from fastapi.responses import JSONResponse, StreamingResponse\n",
    "import shutil\n",
    "import os\n",
    "from typing import Optional, Dict, Any\n",
    "from boltz.main import predict  # Ensure you are importing the correct function\n",
    "from click.testing import CliRunner\n",
    "import io\n",
    "from pathlib import Path\n",
    "import traceback\n",
    "import tempfile\n",
    "import subprocess\n",
    "import asyncio\n",
    "\n",
    "app = FastAPI()\n",
    "USE_CPU_ONLY = os.environ.get(\"USE_CPU_ONLY\", \"0\") == \"1\"\n",
    "\n",
    "def package_outputs(output_dir: str) -> bytes:\n",
    "    import io\n",
    "    import tarfile\n",
    "\n",
    "    tar_buffer = io.BytesIO()\n",
    "    parent_dir = Path(output_dir).parent\n",
    "\n",
    "    cur_dir = os.getcwd()\n",
    "    with tarfile.open(fileobj=tar_buffer, mode=\"w:gz\") as tar:\n",
    "        os.chdir(parent_dir)\n",
    "        try: \n",
    "            tar.add(Path(output_dir).name, arcname=Path(output_dir).name)\n",
    "        finally: \n",
    "            os.chdir(cur_dir)\n",
    "\n",
    "    return tar_buffer.getvalue()\n",
    "\n",
    "async def generate_response(process, out_dir, yaml_path):\n",
    "    try:\n",
    "        while True:\n",
    "            try:\n",
    "                stdout, stderr = await asyncio.wait_for(process.communicate(), timeout=10.0)\n",
    "                break\n",
    "            except TimeoutError:\n",
    "                yield b\"\"  # Yield null character instead of spaces\n",
    "\n",
    "        if process.returncode != 0:\n",
    "            raise Exception(stderr.decode())\n",
    "\n",
    "        print(stdout.decode())\n",
    "\n",
    "        # Package the output directory\n",
    "        tar_data = package_outputs(f\"{out_dir}/boltz_results_{Path(yaml_path).with_suffix('').name}\")\n",
    "        yield tar_data\n",
    "\n",
    "    except Exception as e:\n",
    "        traceback.print_exc()\n",
    "        yield JSONResponse(status_code=500, content={\"error\": str(e)}).body\n",
    "\n",
    "@app.post(\"/predict/\")\n",
    "async def predict_endpoint(\n",
    "    yaml_file: UploadFile = File(...),\n",
    "    msa_dir: Optional[UploadFile] = File(None),\n",
    "    options: Optional[Dict[str, str]] = Form(None)\n",
    "):\n",
    "    yaml_path = f\"/tmp/{yaml_file.filename}\"\n",
    "    with open(yaml_path, \"wb\") as buffer:\n",
    "        shutil.copyfileobj(yaml_file.file, buffer)\n",
    "\n",
    "    msa_dir_path = None\n",
    "    if msa_dir and msa_dir.filename:\n",
    "        msa_dir_path = f\"/tmp/{msa_dir.filename}\"\n",
    "        os.makedirs(msa_dir_path, exist_ok=True)\n",
    "        with open(msa_dir_path, \"wb\") as buffer:\n",
    "            shutil.copyfileobj(msa_dir.file, buffer)\n",
    "\n",
    "    # Create a temporary directory for the output\n",
    "    with tempfile.TemporaryDirectory() as out_dir:\n",
    "        # Call boltz.predict as a CLI tool\n",
    "        try:\n",
    "            print(f\"Running predictions with options: {options} into directory: {out_dir}\")\n",
    "            # Convert options dictionary to key-value pairs\n",
    "            options_list = [f\"--{key}={value}\" for key, value in (options or {}).items()]\n",
    "            command = [\"boltz\", \"predict\", yaml_path, \"--out_dir\", out_dir, \"--use_msa_server\"] + ([\"--accelerator\", \"cpu\"] if USE_CPU_ONLY else []) + options_list\n",
    "            process = await asyncio.create_subprocess_exec(\n",
    "                *command,\n",
    "                stdout=asyncio.subprocess.PIPE,\n",
    "                stderr=asyncio.subprocess.PIPE\n",
    "            )\n",
    "\n",
    "            return StreamingResponse(generate_response(process, out_dir, yaml_path), media_type=\"application/gzip\", headers={\"Content-Disposition\": f\"attachment; filename=boltz_results.tar.gz\"})\n",
    "\n",
    "        except Exception as e:\n",
    "            traceback.print_exc()\n",
    "            return JSONResponse(status_code=500, content={\"error\": str(e)})\n"
   ]
  },
  {
   "cell_type": "code",
   "execution_count": 21,
   "metadata": {},
   "outputs": [],
   "source": [
    "from datetime import timedelta\n",
    "\n",
    "from union import Resources, ImageSpec\n",
    "from union.app import App, ScalingMetric, Input\n",
    "from union import Artifact\n",
    "from flytekit.extras.accelerators import L4, GPUAccelerator\n",
    "\n",
    "boltz_fastapi = App(\n",
    "    name=\"boltz-fastapi-notebook\",\n",
    "    container_image=image,\n",
    "    limits=Resources(cpu=\"2\", mem=\"10Gi\", gpu=\"1\", ephemeral_storage=\"50Gi\"),\n",
    "    port=8080,\n",
    "    include=[\"./boltz_fastapi.py\"],\n",
    "    args=[\"uvicorn\", \"boltz_fastapi:app\", \"--host\", \"0.0.0.0\", \"--port\", \"8080\"],\n",
    "    env={\n",
    "        \"PYTORCH_ENABLE_MPS_FALLBACK\": \"1\",\n",
    "        # \"CUDA_VISIBLE_DEVICES\": \"\",\n",
    "    },\n",
    "    min_replicas=1,\n",
    "    max_replicas=3,\n",
    "    scaledown_after=timedelta(minutes=10),\n",
    "    scaling_metric=ScalingMetric.RequestRate(1),\n",
    "    accelerator=GPUAccelerator(\"nvidia-l40s\"),\n",
    ")"
   ]
  },
  {
   "cell_type": "code",
   "execution_count": null,
   "metadata": {},
   "outputs": [
    {
     "name": "stdout",
     "output_type": "stream",
     "text": [
      "\u001b[34mImage docker.io/unionbio/boltz:Xe3Lkv9eukkkvCzTaMwFMQ found. Skip building.\u001b[0m\n"
     ]
    },
    {
     "data": {
      "text/html": [
       "<pre style=\"white-space:pre;overflow-x:auto;line-height:normal;font-family:Menlo,'DejaVu Sans Mono',consolas,'Courier New',monospace\">✨ Deploying Application: <a href=\"https://serving-mvp.us-west-2.union.ai/console/projects/flytesnacks/domains/development/apps/boltz-fastapi-notebook\" target=\"_blank\">boltz-fastapi-notebook</a>\n",
       "</pre>\n"
      ],
      "text/plain": [
       "✨ Deploying Application: \u001b]8;id=541508;https://serving-mvp.us-west-2.union.ai/console/projects/flytesnacks/domains/development/apps/boltz-fastapi-notebook\u001b\\boltz-fastapi-notebook\u001b]8;;\u001b\\\n"
      ]
     },
     "metadata": {},
     "output_type": "display_data"
    },
    {
     "data": {
      "text/html": [
       "<pre style=\"white-space:pre;overflow-x:auto;line-height:normal;font-family:Menlo,'DejaVu Sans Mono',consolas,'Courier New',monospace\">🔎 Console URL: \n",
       "<a href=\"https://serving-mvp.us-west-2.union.ai/console/projects/flytesnacks/domains/development/apps/boltz-fastapi-notebook\" target=\"_blank\"><span style=\"color: #0000ff; text-decoration-color: #0000ff; text-decoration: underline\">https://serving-mvp.us-west-2.union.ai/console/projects/flytesnacks/domains/development/apps/boltz-fastapi-notebook</span></a>\n",
       "</pre>\n"
      ],
      "text/plain": [
       "🔎 Console URL: \n",
       "\u001b]8;id=270200;https://serving-mvp.us-west-2.union.ai/console/projects/flytesnacks/domains/development/apps/boltz-fastapi-notebook\u001b\\\u001b[4;94mhttps://serving-mvp.us-west-2.union.ai/console/projects/flytesnacks/domains/development/apps/boltz-fastapi-notebook\u001b[0m\u001b]8;;\u001b\\\n"
      ]
     },
     "metadata": {},
     "output_type": "display_data"
    },
    {
     "data": {
      "text/html": [
       "<pre style=\"white-space:pre;overflow-x:auto;line-height:normal;font-family:Menlo,'DejaVu Sans Mono',consolas,'Courier New',monospace\"><span style=\"font-weight: bold\">[Status]</span> <span style=\"font-style: italic\">Pending:</span> RevisionMissing: Configuration <span style=\"color: #008000; text-decoration-color: #008000\">\"boltz-fastapi-notebook\"</span> is waiting for a Revision to become \n",
       "ready.\n",
       "</pre>\n"
      ],
      "text/plain": [
       "\u001b[1m[\u001b[0m\u001b[1mStatus\u001b[0m\u001b[1m]\u001b[0m \u001b[3mPending:\u001b[0m RevisionMissing: Configuration \u001b[32m\"boltz-fastapi-notebook\"\u001b[0m is waiting for a Revision to become \n",
       "ready.\n"
      ]
     },
     "metadata": {},
     "output_type": "display_data"
    },
    {
     "data": {
      "text/html": [
       "<pre style=\"white-space:pre;overflow-x:auto;line-height:normal;font-family:Menlo,'DejaVu Sans Mono',consolas,'Courier New',monospace\"><span style=\"font-weight: bold\">[Status]</span> <span style=\"font-style: italic\">Pending:</span> IngressNotConfigured: Ingress has not yet been reconciled.\n",
       "</pre>\n"
      ],
      "text/plain": [
       "\u001b[1m[\u001b[0m\u001b[1mStatus\u001b[0m\u001b[1m]\u001b[0m \u001b[3mPending:\u001b[0m IngressNotConfigured: Ingress has not yet been reconciled.\n"
      ]
     },
     "metadata": {},
     "output_type": "display_data"
    },
    {
     "data": {
      "text/html": [
       "<pre style=\"white-space:pre;overflow-x:auto;line-height:normal;font-family:Menlo,'DejaVu Sans Mono',consolas,'Courier New',monospace\"><span style=\"font-weight: bold\">[Status]</span> <span style=\"font-style: italic\">Pending:</span> Uninitialized: Waiting for load balancer to be ready\n",
       "</pre>\n"
      ],
      "text/plain": [
       "\u001b[1m[\u001b[0m\u001b[1mStatus\u001b[0m\u001b[1m]\u001b[0m \u001b[3mPending:\u001b[0m Uninitialized: Waiting for load balancer to be ready\n"
      ]
     },
     "metadata": {},
     "output_type": "display_data"
    },
    {
     "data": {
      "text/html": [
       "<pre style=\"white-space:pre;overflow-x:auto;line-height:normal;font-family:Menlo,'DejaVu Sans Mono',consolas,'Courier New',monospace\"><span style=\"font-weight: bold\">[Status]</span> <span style=\"font-style: italic\">Started:</span> Service is ready\n",
       "</pre>\n"
      ],
      "text/plain": [
       "\u001b[1m[\u001b[0m\u001b[1mStatus\u001b[0m\u001b[1m]\u001b[0m \u001b[3mStarted:\u001b[0m Service is ready\n"
      ]
     },
     "metadata": {},
     "output_type": "display_data"
    },
    {
     "data": {
      "text/html": [
       "<pre style=\"white-space:pre;overflow-x:auto;line-height:normal;font-family:Menlo,'DejaVu Sans Mono',consolas,'Courier New',monospace\">\n",
       "</pre>\n"
      ],
      "text/plain": [
       "\n"
      ]
     },
     "metadata": {},
     "output_type": "display_data"
    },
    {
     "data": {
      "text/html": [
       "<pre style=\"white-space:pre;overflow-x:auto;line-height:normal;font-family:Menlo,'DejaVu Sans Mono',consolas,'Courier New',monospace\">🚀 Deployed Endpoint: <a href=\"https://noisy-mud-ec985.apps.serving-mvp.us-west-2.union.ai\" target=\"_blank\"><span style=\"color: #0000ff; text-decoration-color: #0000ff; text-decoration: underline\">https://noisy-mud-ec985.apps.serving-mvp.us-west-2.union.ai</span></a>\n",
       "</pre>\n"
      ],
      "text/plain": [
       "🚀 Deployed Endpoint: \u001b]8;id=124752;https://noisy-mud-ec985.apps.serving-mvp.us-west-2.union.ai\u001b\\\u001b[4;94mhttps://noisy-mud-ec985.apps.serving-mvp.us-west-2.union.ai\u001b[0m\u001b]8;;\u001b\\\n"
      ]
     },
     "metadata": {},
     "output_type": "display_data"
    },
    {
     "data": {
      "text/plain": [
       "metadata {\n",
       "  id {\n",
       "    org: \"serving-mvp\"\n",
       "    project: \"flytesnacks\"\n",
       "    domain: \"development\"\n",
       "    name: \"boltz-fastapi-notebook\"\n",
       "  }\n",
       "}\n",
       "spec {\n",
       "  container {\n",
       "    image: \"docker.io/unionbio/boltz:Xe3Lkv9eukkkvCzTaMwFMQ\"\n",
       "    command: \"union-serve\"\n",
       "    command: \"--config\"\n",
       "    command: \"{\\\"code_uri\\\": \\\"s3://union-serving-mvp-us-west-2-serving-mvp-fast-registration/flytesnacks/development/VTLRV5D7O7PCWMF3GHXOV4IS4E======/include-files.tar.gz\\\", \\\"inputs\\\": []}\"\n",
       "    command: \"--\"\n",
       "    args: \"uvicorn\"\n",
       "    args: \"boltz_fastapi:app\"\n",
       "    args: \"--host\"\n",
       "    args: \"0.0.0.0\"\n",
       "    args: \"--port\"\n",
       "    args: \"8080\"\n",
       "    resources {\n",
       "      requests {\n",
       "        name: CPU\n",
       "        value: \"2\"\n",
       "      }\n",
       "      requests {\n",
       "        name: MEMORY\n",
       "        value: \"10Gi\"\n",
       "      }\n",
       "      requests {\n",
       "        name: GPU\n",
       "        value: \"1\"\n",
       "      }\n",
       "      requests {\n",
       "        name: EPHEMERAL_STORAGE\n",
       "        value: \"50Gi\"\n",
       "      }\n",
       "      limits {\n",
       "        name: CPU\n",
       "        value: \"2\"\n",
       "      }\n",
       "      limits {\n",
       "        name: MEMORY\n",
       "        value: \"10Gi\"\n",
       "      }\n",
       "      limits {\n",
       "        name: GPU\n",
       "        value: \"1\"\n",
       "      }\n",
       "      limits {\n",
       "        name: EPHEMERAL_STORAGE\n",
       "        value: \"50Gi\"\n",
       "      }\n",
       "    }\n",
       "    env {\n",
       "      key: \"PYTORCH_ENABLE_MPS_FALLBACK\"\n",
       "      value: \"1\"\n",
       "    }\n",
       "    ports {\n",
       "      container_port: 8080\n",
       "    }\n",
       "  }\n",
       "  autoscaling {\n",
       "    replicas {\n",
       "      min: 1\n",
       "      max: 3\n",
       "    }\n",
       "    scaledown_period {\n",
       "      seconds: 600\n",
       "    }\n",
       "    scaling_metric {\n",
       "      request_rate {\n",
       "        target_value: 1\n",
       "      }\n",
       "    }\n",
       "  }\n",
       "  ingress {\n",
       "  }\n",
       "  desired_state: DESIRED_STATE_STARTED\n",
       "  cluster_pool: \"default\"\n",
       "  extended_resources {\n",
       "    gpu_accelerator {\n",
       "      device: \"nvidia-l40s\"\n",
       "    }\n",
       "  }\n",
       "  profile {\n",
       "  }\n",
       "}"
      ]
     },
     "execution_count": 24,
     "metadata": {},
     "output_type": "execute_result"
    },
    {
     "name": "stderr",
     "output_type": "stream",
     "text": [
      "WARNING:root:Failed to refresh token. Kicking off a full authorization flow.\n",
      "WARNING: All log messages before absl::InitializeLog() is called are written to STDERR\n",
      "I0000 00:00:1741022832.134110 3380940 fork_posix.cc:77] Other threads are currently calling into gRPC, skipping fork() handlers\n"
     ]
    }
   ],
   "source": [
    "from union.remote._app_remote import AppRemote\n",
    "\n",
    "app_remote = AppRemote(default_project=\"default\", default_domain=\"development\", union_remote=remote)\n",
    "\n",
    "app_remote.deploy(boltz_fastapi)\n",
    "# app_remote.create_or_update(gradio_app)"
   ]
  }
 ],
 "metadata": {
  "kernelspec": {
   "display_name": ".venv",
   "language": "python",
   "name": "python3"
  },
  "language_info": {
   "codemirror_mode": {
    "name": "ipython",
    "version": 3
   },
   "file_extension": ".py",
   "mimetype": "text/x-python",
   "name": "python",
   "nbconvert_exporter": "python",
   "pygments_lexer": "ipython3",
   "version": "3.12.8"
  }
 },
 "nbformat": 4,
 "nbformat_minor": 2
}
