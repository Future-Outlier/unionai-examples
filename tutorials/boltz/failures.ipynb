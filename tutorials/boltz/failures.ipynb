{
 "cells": [
  {
   "cell_type": "code",
   "execution_count": null,
   "metadata": {},
   "outputs": [],
   "source": [
    "# Imports and init remote\n",
    "import os\n",
    "import subprocess\n",
    "from union import task, workflow, FlyteFile, UnionRemote, ImageSpec, Resources, FlyteDirectory\n",
    "from union.remote import HuggingFaceModelInfo\n",
    "from flytekit.configuration import Config\n",
    "\n",
    "os.environ[\"UNION_CONFIG\"] = \"/Users/pryceturner/.union/config_serving.yaml\"\n",
    "\n",
    "remote = UnionRemote(config=Config.auto(config_file=\"/Users/pryceturner/.union/config_serving.yaml\"))"
   ]
  },
  {
   "cell_type": "code",
   "execution_count": null,
   "metadata": {},
   "outputs": [],
   "source": [
    "# Define Image\n",
    "image = ImageSpec(\n",
    "    name=\"boltz\",\n",
    "    builder=\"union\",\n",
    "    packages=[\n",
    "        \"union\",\n",
    "        \"flytekit==1.13.14\",\n",
    "        \"union-runtime==0.1.11\",\n",
    "        \"fastapi==0.115.11\", \n",
    "        \"pydantic==2.10.6\", \n",
    "        \"boltz==0.4.1\", \n",
    "        \"uvicorn==0.34.0\", \n",
    "        \"python-multipart==0.0.20\"\n",
    "        ],\n",
    "    apt_packages=[\"build-essential\"]\n",
    ")"
   ]
  },
  {
   "cell_type": "code",
   "execution_count": null,
   "metadata": {},
   "outputs": [],
   "source": [
    "@task(container_image=image)\n",
    "def simple(input: str) -> str:\n",
    "    return input\n",
    "\n",
    "@workflow\n",
    "def sim_wf(input: str) -> str:\n",
    "    return simple(input=input)\n",
    "\n",
    "execution = remote.execute(\n",
    "    entity=sim_wf,\n",
    "    inputs={\"input\": \"banana\"},\n",
    "    wait=True\n",
    "    )\n",
    "output = execution.outputs\n",
    "print(output)"
   ]
  }
 ],
 "metadata": {
  "kernelspec": {
   "display_name": ".venv",
   "language": "python",
   "name": "python3"
  },
  "language_info": {
   "name": "python",
   "version": "3.12.8"
  }
 },
 "nbformat": 4,
 "nbformat_minor": 2
}
