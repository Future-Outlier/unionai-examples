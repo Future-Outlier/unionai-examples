{
 "cells": [
  {
   "cell_type": "code",
   "execution_count": 1,
   "metadata": {},
   "outputs": [
    {
     "data": {
      "text/html": [
       "<pre style=\"white-space:pre;overflow-x:auto;line-height:normal;font-family:Menlo,'DejaVu Sans Mono',consolas,'Courier New',monospace\"><span style=\"color: #7fbfbf; text-decoration-color: #7fbfbf\">12:46:14.484110 </span><span style=\"color: #808000; text-decoration-color: #808000\">WARNING </span> remote.py:<span style=\"color: #008080; text-decoration-color: #008080; font-weight: bold\">293</span> - Jupyter notebook and interactive task  \n",
       "<span style=\"color: #7fbfbf; text-decoration-color: #7fbfbf\">                </span>         support is still alpha.                                \n",
       "</pre>\n"
      ],
      "text/plain": [
       "\u001b[2;36m12:46:14.484110\u001b[0m\u001b[2;36m \u001b[0m\u001b[33mWARNING \u001b[0m remote.py:\u001b[1;36m293\u001b[0m - Jupyter notebook and interactive task  \n",
       "\u001b[2;36m                \u001b[0m         support is still alpha.                                \n"
      ]
     },
     "metadata": {},
     "output_type": "display_data"
    }
   ],
   "source": [
    "# Imports and init remote\n",
    "import os\n",
    "import subprocess\n",
    "from union import task, workflow, FlyteFile, UnionRemote, ImageSpec, Resources, FlyteDirectory\n",
    "from union.remote import HuggingFaceModelInfo\n",
    "from flytekit.configuration import Config\n",
    "\n",
    "os.environ[\"UNION_CONFIG\"] = \"/Users/pryceturner/.union/config_serving.yaml\"\n",
    "\n",
    "remote = UnionRemote(config=Config.auto(config_file=\"/Users/pryceturner/.union/config_serving.yaml\"))"
   ]
  },
  {
   "cell_type": "code",
   "execution_count": null,
   "metadata": {},
   "outputs": [],
   "source": [
    "# FAILS\n",
    "uni_image = ImageSpec(\n",
    "    name=\"debug\",\n",
    "    packages=[\"union\"],\n",
    "    builder=\"union\",\n",
    ")"
   ]
  },
  {
   "cell_type": "code",
   "execution_count": null,
   "metadata": {},
   "outputs": [],
   "source": [
    "# WORKS\n",
    "reg_image = ImageSpec(\n",
    "    name=\"debug\",\n",
    "    packages=[\"union\"],\n",
    "    registry=\"ghcr.io/pryce-turner\",\n",
    ")"
   ]
  },
  {
   "cell_type": "code",
   "execution_count": 3,
   "metadata": {},
   "outputs": [
    {
     "name": "stdout",
     "output_type": "stream",
     "text": [
      "\u001b[34mImage ghcr.io/pryce-turner/debug:cXolz_p0IYzf20F4h5wKoA found. Skip building.\u001b[0m\n",
      "{'o0': 'banana'}\n"
     ]
    }
   ],
   "source": [
    "@task(container_image=reg_image)\n",
    "def simple(input: str) -> str:\n",
    "    return input\n",
    "\n",
    "@workflow\n",
    "def sim_wf(input: str) -> str:\n",
    "    return simple(input=input)\n",
    "\n",
    "execution = remote.execute(\n",
    "    entity=sim_wf,\n",
    "    inputs={\"input\": \"banana\"},\n",
    "    wait=True\n",
    "    )\n",
    "output = execution.outputs\n",
    "print(output)"
   ]
  }
 ],
 "metadata": {
  "kernelspec": {
   "display_name": ".venv",
   "language": "python",
   "name": "python3"
  },
  "language_info": {
   "codemirror_mode": {
    "name": "ipython",
    "version": 3
   },
   "file_extension": ".py",
   "mimetype": "text/x-python",
   "name": "python",
   "nbconvert_exporter": "python",
   "pygments_lexer": "ipython3",
   "version": "3.12.8"
  }
 },
 "nbformat": 4,
 "nbformat_minor": 2
}
